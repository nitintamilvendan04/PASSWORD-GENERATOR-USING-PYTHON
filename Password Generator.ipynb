{
 "cells": [
  {
   "cell_type": "code",
   "execution_count": 1,
   "id": "4dfc7c15-eff5-4d1a-a635-d15e9bb2cc11",
   "metadata": {},
   "outputs": [
    {
     "name": "stdout",
     "output_type": "stream",
     "text": [
      "🔐 Password Generator\n"
     ]
    },
    {
     "name": "stdin",
     "output_type": "stream",
     "text": [
      "Enter the desired password length:  30\n"
     ]
    },
    {
     "name": "stdout",
     "output_type": "stream",
     "text": [
      "\n",
      "Generated Password: v.rub+ZpkFIcD{U@Ir\"HsWG[\"Vfics\n"
     ]
    }
   ],
   "source": [
    "import random\n",
    "import string\n",
    "\n",
    "# Display welcome message\n",
    "print(\"🔐 Password Generator\")\n",
    "\n",
    "# Step 1: Get desired password length from the user\n",
    "length = int(input(\"Enter the desired password length: \"))\n",
    "\n",
    "# Step 2: Define character set: letters (upper/lower), digits, and symbols\n",
    "characters = string.ascii_letters + string.digits + string.punctuation\n",
    "\n",
    "# Step 3: Generate password\n",
    "password = ''.join(random.choice(characters) for _ in range(length))\n",
    "\n",
    "# Step 4: Display the generated password\n",
    "print(f\"\\nGenerated Password: {password}\")"
   ]
  },
  {
   "cell_type": "code",
   "execution_count": null,
   "id": "a0c1adc1-50c2-4afe-9af9-b1d21b6a8203",
   "metadata": {},
   "outputs": [],
   "source": []
  }
 ],
 "metadata": {
  "kernelspec": {
   "display_name": "Python [conda env:base] *",
   "language": "python",
   "name": "conda-base-py"
  },
  "language_info": {
   "codemirror_mode": {
    "name": "ipython",
    "version": 3
   },
   "file_extension": ".py",
   "mimetype": "text/x-python",
   "name": "python",
   "nbconvert_exporter": "python",
   "pygments_lexer": "ipython3",
   "version": "3.12.7"
  }
 },
 "nbformat": 4,
 "nbformat_minor": 5
}
